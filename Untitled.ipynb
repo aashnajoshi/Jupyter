{
 "cells": [
  {
   "cell_type": "code",
   "execution_count": 26,
   "id": "182cce53-f345-48e7-bd1e-e35435e4ab82",
   "metadata": {},
   "outputs": [
    {
     "name": "stdout",
     "output_type": "stream",
     "text": [
      "[10, 12, 14, 16]\n"
     ]
    }
   ],
   "source": [
    "def double(n):\n",
    "    return n*2\n",
    "numbers=[5,6,7,8]\n",
    "result=map(double,numbers)\n",
    "print(list(result))\n",
    "    "
   ]
  },
  {
   "cell_type": "code",
   "execution_count": 27,
   "id": "464fba0d-aed4-4068-bc78-626fafbbc582",
   "metadata": {},
   "outputs": [
    {
     "name": "stdout",
     "output_type": "stream",
     "text": [
      "[90, 76, 88, 81]\n"
     ]
    }
   ],
   "source": [
    "scores=[66,90,68,59,76,60,88,74,81,65]\n",
    "def is_A_student(score):\n",
    "    return score>75\n",
    "over_75=list(filter(is_A_student,scores))\n",
    "print(over_75)"
   ]
  },
  {
   "cell_type": "code",
   "execution_count": 25,
   "id": "3e6cfb88-f71d-464f-91c0-83c7b82a3fbf",
   "metadata": {},
   "outputs": [
    {
     "name": "stdout",
     "output_type": "stream",
     "text": [
      "['madam', 'anutforajaroftuna']\n"
     ]
    }
   ],
   "source": [
    "dromes=(\"demigod\",\"rewire\",\"madam\",\"freer\",\"anutforajaroftuna\",\"kiosk\")\n",
    "palindromes=list(filter(lambda word:word==word[::-1],dromes))\n",
    "print(palindromes)\n"
   ]
  },
  {
   "cell_type": "code",
   "execution_count": 11,
   "id": "6c7287e3-860b-423b-94f9-5580a00eb0c4",
   "metadata": {},
   "outputs": [
    {
     "name": "stdout",
     "output_type": "stream",
     "text": [
      "78\n"
     ]
    }
   ],
   "source": [
    "from functools import reduce\n",
    "numbers=[3,4,6,9,34,12]\n",
    "def custom_sum(first,second):\n",
    "    return first+second\n",
    "result=reduce(custom_sum,numbers,10)\n",
    "print(result)"
   ]
  },
  {
   "cell_type": "code",
   "execution_count": 22,
   "id": "6201e20b-3982-4ab0-abb7-45247b4bae23",
   "metadata": {},
   "outputs": [
    {
     "name": "stderr",
     "output_type": "stream",
     "text": [
      "/tmp/ipykernel_5649/1027069862.py:7: UserWarning: \n",
      "\n",
      "`distplot` is a deprecated function and will be removed in seaborn v0.14.0.\n",
      "\n",
      "Please adapt your code to use either `displot` (a figure-level function with\n",
      "similar flexibility) or `histplot` (an axes-level function for histograms).\n",
      "\n",
      "For a guide to updating your code to use the new functions, please see\n",
      "https://gist.github.com/mwaskom/de44147ed2974457ad6372750bbe5751\n",
      "\n",
      "  ax=sns.distplot(data,bins=20,kde=False,color='red',hist_kws={\"linewidth\":15,'alpha':1})\n"
     ]
    },
    {
     "data": {
      "image/png": "[encoded data removed]",
      "text/plain": [
       "<Figure size 640x480 with 1 Axes>"
      ]
     },
     "metadata": {},
     "output_type": "display_data"
    }
   ],
   "source": [
    "#probability distribution with graph representation\n",
    "import seaborn as sns\n",
    "import matplotlib.pyplot as plt\n",
    "import numpy as np\n",
    "n,p=10,.6\n",
    "data=np.random.binomial(n,p,10000)\n",
    "ax=sns.distplot(data,bins=20,kde=False,color='red',hist_kws={\"linewidth\":15,'alpha':1})\n",
    "ax.set(xlabel='Binomial distribution',ylabel='Frequency')\n",
    "plt.show()\n",
    "                \n"
   ]
  },
  {
   "cell_type": "code",
   "execution_count": null,
   "id": "04689d22-8f36-4f1a-bb20-3ae75690290f",
   "metadata": {},
   "outputs": [],
   "source": []
  }
 ],
 "metadata": {
  "kernelspec": {
   "display_name": "Python 3 (ipykernel)",
   "language": "python",
   "name": "python3"
  },
  "language_info": {
   "codemirror_mode": {
    "name": "ipython",
    "version": 3
   },
   "file_extension": ".py",
   "mimetype": "text/x-python",
   "name": "python",
   "nbconvert_exporter": "python",
   "pygments_lexer": "ipython3",
   "version": "3.10.12"
  }
 },
 "nbformat": 4,
 "nbformat_minor": 5
}
