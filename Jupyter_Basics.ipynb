{
 "cells": [
  {
   "cell_type": "markdown",
   "id": "4f5a6564-5348-40b7-9a59-378c726c93dd",
   "metadata": {},
   "source": [
    "# Basic Understanding of Notebook"
   ]
  },
  {
   "cell_type": "markdown",
   "id": "ddbced33-b9d1-4c7e-986a-29b0cb6bcb43",
   "metadata": {
    "jp-MarkdownHeadingCollapsed": true
   },
   "source": [
    "## Taking input for variables"
   ]
  },
  {
   "cell_type": "code",
   "execution_count": 4,
   "id": "f8263c89-4497-4182-b6ab-36b5ba4b6218",
   "metadata": {},
   "outputs": [
    {
     "name": "stdin",
     "output_type": "stream",
     "text": [
      "Enter Value for x:  3\n",
      "Enter Value for y:  4\n"
     ]
    }
   ],
   "source": [
    "x = int(input(\"Enter Value for x: \"))\n",
    "y = int(input(\"Enter Value for y: \"))"
   ]
  },
  {
   "cell_type": "markdown",
   "id": "8332f66e-4170-452c-8e00-369b487c2a2d",
   "metadata": {
    "jp-MarkdownHeadingCollapsed": true
   },
   "source": [
    "## Adding the variables"
   ]
  },
  {
   "cell_type": "code",
   "execution_count": 4,
   "id": "8be2b74f-0c12-4bf2-849d-dc5e87e40a33",
   "metadata": {},
   "outputs": [
    {
     "data": {
      "text/plain": [
       "7"
      ]
     },
     "execution_count": 4,
     "metadata": {},
     "output_type": "execute_result"
    }
   ],
   "source": [
    "x+y"
   ]
  },
  {
   "cell_type": "markdown",
   "id": "6d8208f0-93f8-4b04-896c-41bdb408586f",
   "metadata": {
    "jp-MarkdownHeadingCollapsed": true
   },
   "source": [
    "## Formula for calculating Area (Considering x & y to be length and breadth of Quadrilateral)"
   ]
  },
  {
   "cell_type": "code",
   "execution_count": 6,
   "id": "21d108ab-5dd5-48e9-8322-b149b9002bed",
   "metadata": {},
   "outputs": [
    {
     "data": {
      "text/plain": [
       "12"
      ]
     },
     "execution_count": 6,
     "metadata": {},
     "output_type": "execute_result"
    }
   ],
   "source": [
    "x*y"
   ]
  },
  {
   "cell_type": "markdown",
   "id": "fa2d0af3-95fb-4165-ac4e-af4e1efab7a3",
   "metadata": {
    "jp-MarkdownHeadingCollapsed": true
   },
   "source": [
    "## For calculating Area of Circle"
   ]
  },
  {
   "cell_type": "code",
   "execution_count": 104,
   "id": "a0773eaf-d87f-42f7-9cdc-c20b1689fd86",
   "metadata": {},
   "outputs": [
    {
     "name": "stdin",
     "output_type": "stream",
     "text": [
      "Enter value of radius 2\n"
     ]
    },
    {
     "data": {
      "text/plain": [
       "12.5663706"
      ]
     },
     "execution_count": 104,
     "metadata": {},
     "output_type": "execute_result"
    }
   ],
   "source": [
    "pi = 3.14159265\n",
    "r = int(input(\"Enter value of radius\"))\n",
    "pi*r*r"
   ]
  },
  {
   "cell_type": "markdown",
   "id": "5eaacf53-b657-41db-be3c-cb821b01e41f",
   "metadata": {
    "jp-MarkdownHeadingCollapsed": true
   },
   "source": [
    "## Plotting a graph (sympy)"
   ]
  },
  {
   "cell_type": "code",
   "execution_count": 173,
   "id": "d9a7e634-4c99-4aed-9988-767fecab20af",
   "metadata": {},
   "outputs": [
    {
     "data": {
      "image/png": "[encoded data removed]",
      "text/plain": [
       "<Figure size 640x480 with 1 Axes>"
      ]
     },
     "metadata": {},
     "output_type": "display_data"
    },
    {
     "data": {
      "text/plain": [
       "<sympy.plotting.plot.Plot at 0x150d006e1b0>"
      ]
     },
     "execution_count": 173,
     "metadata": {},
     "output_type": "execute_result"
    }
   ],
   "source": [
    "import sympy as sp\n",
    "\n",
    "x = sp.symbols('x')  # Define the symbol x\n",
    "y = x**3  # Define the function y = x^3\n",
    "sp.plot(y, xlabel='', ylabel='')"
   ]
  },
  {
   "cell_type": "markdown",
   "id": "8f079de6-c3e1-4504-b73f-45977d4a2909",
   "metadata": {
    "jp-MarkdownHeadingCollapsed": true
   },
   "source": [
    "## Showing a Structured Data (pandas)"
   ]
  },
  {
   "cell_type": "code",
   "execution_count": 76,
   "id": "332f47fc-d09d-489d-9f19-bdf980dda713",
   "metadata": {},
   "outputs": [
    {
     "data": {
      "text/html": [
       "<div>\n",
       "<style scoped>\n",
       "    .dataframe tbody tr th:only-of-type {\n",
       "        vertical-align: middle;\n",
       "    }\n",
       "\n",
       "    .dataframe tbody tr th {\n",
       "        vertical-align: top;\n",
       "    }\n",
       "\n",
       "    .dataframe thead th {\n",
       "        text-align: right;\n",
       "    }\n",
       "</style>\n",
       "<table border=\"1\" class=\"dataframe\">\n",
       "  <thead>\n",
       "    <tr style=\"text-align: right;\">\n",
       "      <th></th>\n",
       "      <th>Index</th>\n",
       "      <th>Customer Id</th>\n",
       "      <th>First Name</th>\n",
       "      <th>Last Name</th>\n",
       "      <th>Company</th>\n",
       "      <th>City</th>\n",
       "      <th>Country</th>\n",
       "      <th>Phone 1</th>\n",
       "      <th>Phone 2</th>\n",
       "      <th>Email</th>\n",
       "      <th>Subscription Date</th>\n",
       "      <th>Website</th>\n",
       "    </tr>\n",
       "  </thead>\n",
       "  <tbody>\n",
       "    <tr>\n",
       "      <th>0</th>\n",
       "      <td>1</td>\n",
       "      <td>DD37Cf93aecA6Dc</td>\n",
       "      <td>Sheryl</td>\n",
       "      <td>Baxter</td>\n",
       "      <td>Rasmussen Group</td>\n",
       "      <td>East Leonard</td>\n",
       "      <td>Chile</td>\n",
       "      <td>229.077.5154</td>\n",
       "      <td>397.884.0519x718</td>\n",
       "      <td>zunigavanessa@smith.info</td>\n",
       "      <td>2020-08-24</td>\n",
       "      <td>http://www.stephenson.com/</td>\n",
       "    </tr>\n",
       "    <tr>\n",
       "      <th>1</th>\n",
       "      <td>2</td>\n",
       "      <td>1Ef7b82A4CAAD10</td>\n",
       "      <td>Preston</td>\n",
       "      <td>Lozano</td>\n",
       "      <td>Vega-Gentry</td>\n",
       "      <td>East Jimmychester</td>\n",
       "      <td>Djibouti</td>\n",
       "      <td>5153435776</td>\n",
       "      <td>686-620-1820x944</td>\n",
       "      <td>vmata@colon.com</td>\n",
       "      <td>2021-04-23</td>\n",
       "      <td>http://www.hobbs.com/</td>\n",
       "    </tr>\n",
       "    <tr>\n",
       "      <th>2</th>\n",
       "      <td>3</td>\n",
       "      <td>6F94879bDAfE5a6</td>\n",
       "      <td>Roy</td>\n",
       "      <td>Berry</td>\n",
       "      <td>Murillo-Perry</td>\n",
       "      <td>Isabelborough</td>\n",
       "      <td>Antigua and Barbuda</td>\n",
       "      <td>+1-539-402-0259</td>\n",
       "      <td>(496)978-3969x58947</td>\n",
       "      <td>beckycarr@hogan.com</td>\n",
       "      <td>2020-03-25</td>\n",
       "      <td>http://www.lawrence.com/</td>\n",
       "    </tr>\n",
       "    <tr>\n",
       "      <th>3</th>\n",
       "      <td>4</td>\n",
       "      <td>5Cef8BFA16c5e3c</td>\n",
       "      <td>Linda</td>\n",
       "      <td>Olsen</td>\n",
       "      <td>Dominguez, Mcmillan and Donovan</td>\n",
       "      <td>Bensonview</td>\n",
       "      <td>Dominican Republic</td>\n",
       "      <td>001-808-617-6467x12895</td>\n",
       "      <td>+1-813-324-8756</td>\n",
       "      <td>stanleyblackwell@benson.org</td>\n",
       "      <td>2020-06-02</td>\n",
       "      <td>http://www.good-lyons.com/</td>\n",
       "    </tr>\n",
       "    <tr>\n",
       "      <th>4</th>\n",
       "      <td>5</td>\n",
       "      <td>053d585Ab6b3159</td>\n",
       "      <td>Joanna</td>\n",
       "      <td>Bender</td>\n",
       "      <td>Martin, Lang and Andrade</td>\n",
       "      <td>West Priscilla</td>\n",
       "      <td>Slovakia (Slovak Republic)</td>\n",
       "      <td>001-234-203-0635x76146</td>\n",
       "      <td>001-199-446-3860x3486</td>\n",
       "      <td>colinalvarado@miles.net</td>\n",
       "      <td>2021-04-17</td>\n",
       "      <td>https://goodwin-ingram.com/</td>\n",
       "    </tr>\n",
       "    <tr>\n",
       "      <th>...</th>\n",
       "      <td>...</td>\n",
       "      <td>...</td>\n",
       "      <td>...</td>\n",
       "      <td>...</td>\n",
       "      <td>...</td>\n",
       "      <td>...</td>\n",
       "      <td>...</td>\n",
       "      <td>...</td>\n",
       "      <td>...</td>\n",
       "      <td>...</td>\n",
       "      <td>...</td>\n",
       "      <td>...</td>\n",
       "    </tr>\n",
       "    <tr>\n",
       "      <th>95</th>\n",
       "      <td>96</td>\n",
       "      <td>cb8E23e48d22Eae</td>\n",
       "      <td>Karl</td>\n",
       "      <td>Greer</td>\n",
       "      <td>Carey LLC</td>\n",
       "      <td>East Richard</td>\n",
       "      <td>Guyana</td>\n",
       "      <td>(188)169-1674x58692</td>\n",
       "      <td>001-841-293-3519x614</td>\n",
       "      <td>hhart@jensen.com</td>\n",
       "      <td>2022-01-30</td>\n",
       "      <td>http://hayes-perez.com/</td>\n",
       "    </tr>\n",
       "    <tr>\n",
       "      <th>96</th>\n",
       "      <td>97</td>\n",
       "      <td>CeD220bdAaCfaDf</td>\n",
       "      <td>Lynn</td>\n",
       "      <td>Atkinson</td>\n",
       "      <td>Ware, Burns and Oneal</td>\n",
       "      <td>New Bradview</td>\n",
       "      <td>Sri Lanka</td>\n",
       "      <td>+1-846-706-2218</td>\n",
       "      <td>605.413.3198</td>\n",
       "      <td>vkemp@ferrell.com</td>\n",
       "      <td>2021-07-10</td>\n",
       "      <td>https://novak-allison.com/</td>\n",
       "    </tr>\n",
       "    <tr>\n",
       "      <th>97</th>\n",
       "      <td>98</td>\n",
       "      <td>28CDbC0dFe4b1Db</td>\n",
       "      <td>Fred</td>\n",
       "      <td>Guerra</td>\n",
       "      <td>Schmitt-Jones</td>\n",
       "      <td>Ortegaland</td>\n",
       "      <td>Solomon Islands</td>\n",
       "      <td>+1-753-067-8419x7170</td>\n",
       "      <td>+1-632-666-7507x92121</td>\n",
       "      <td>swagner@kane.org</td>\n",
       "      <td>2021-09-18</td>\n",
       "      <td>https://www.ross.com/</td>\n",
       "    </tr>\n",
       "    <tr>\n",
       "      <th>98</th>\n",
       "      <td>99</td>\n",
       "      <td>c23d1D9EE8DEB0A</td>\n",
       "      <td>Yvonne</td>\n",
       "      <td>Farmer</td>\n",
       "      <td>Fitzgerald-Harrell</td>\n",
       "      <td>Lake Elijahview</td>\n",
       "      <td>Aruba</td>\n",
       "      <td>(530)311-9786</td>\n",
       "      <td>001-869-452-0943x12424</td>\n",
       "      <td>mccarthystephen@horn-green.biz</td>\n",
       "      <td>2021-08-11</td>\n",
       "      <td>http://watkins.info/</td>\n",
       "    </tr>\n",
       "    <tr>\n",
       "      <th>99</th>\n",
       "      <td>100</td>\n",
       "      <td>2354a0E336A91A1</td>\n",
       "      <td>Clarence</td>\n",
       "      <td>Haynes</td>\n",
       "      <td>Le, Nash and Cross</td>\n",
       "      <td>Judymouth</td>\n",
       "      <td>Honduras</td>\n",
       "      <td>(753)813-6941</td>\n",
       "      <td>783.639.1472</td>\n",
       "      <td>colleen91@faulkner.biz</td>\n",
       "      <td>2020-03-11</td>\n",
       "      <td>http://www.hatfield-saunders.net/</td>\n",
       "    </tr>\n",
       "  </tbody>\n",
       "</table>\n",
       "<p>100 rows × 12 columns</p>\n",
       "</div>"
      ],
      "text/plain": [
       "    Index      Customer Id First Name Last Name  \\\n",
       "0       1  DD37Cf93aecA6Dc     Sheryl    Baxter   \n",
       "1       2  1Ef7b82A4CAAD10    Preston    Lozano   \n",
       "2       3  6F94879bDAfE5a6        Roy     Berry   \n",
       "3       4  5Cef8BFA16c5e3c      Linda     Olsen   \n",
       "4       5  053d585Ab6b3159     Joanna    Bender   \n",
       "..    ...              ...        ...       ...   \n",
       "95     96  cb8E23e48d22Eae       Karl     Greer   \n",
       "96     97  CeD220bdAaCfaDf       Lynn  Atkinson   \n",
       "97     98  28CDbC0dFe4b1Db       Fred    Guerra   \n",
       "98     99  c23d1D9EE8DEB0A     Yvonne    Farmer   \n",
       "99    100  2354a0E336A91A1   Clarence    Haynes   \n",
       "\n",
       "                            Company               City  \\\n",
       "0                   Rasmussen Group       East Leonard   \n",
       "1                       Vega-Gentry  East Jimmychester   \n",
       "2                     Murillo-Perry      Isabelborough   \n",
       "3   Dominguez, Mcmillan and Donovan         Bensonview   \n",
       "4          Martin, Lang and Andrade     West Priscilla   \n",
       "..                              ...                ...   \n",
       "95                        Carey LLC       East Richard   \n",
       "96            Ware, Burns and Oneal       New Bradview   \n",
       "97                    Schmitt-Jones         Ortegaland   \n",
       "98               Fitzgerald-Harrell    Lake Elijahview   \n",
       "99               Le, Nash and Cross          Judymouth   \n",
       "\n",
       "                       Country                 Phone 1  \\\n",
       "0                        Chile            229.077.5154   \n",
       "1                     Djibouti              5153435776   \n",
       "2          Antigua and Barbuda         +1-539-402-0259   \n",
       "3           Dominican Republic  001-808-617-6467x12895   \n",
       "4   Slovakia (Slovak Republic)  001-234-203-0635x76146   \n",
       "..                         ...                     ...   \n",
       "95                      Guyana     (188)169-1674x58692   \n",
       "96                   Sri Lanka         +1-846-706-2218   \n",
       "97             Solomon Islands    +1-753-067-8419x7170   \n",
       "98                       Aruba           (530)311-9786   \n",
       "99                    Honduras           (753)813-6941   \n",
       "\n",
       "                   Phone 2                           Email Subscription Date  \\\n",
       "0         397.884.0519x718        zunigavanessa@smith.info        2020-08-24   \n",
       "1         686-620-1820x944                 vmata@colon.com        2021-04-23   \n",
       "2      (496)978-3969x58947             beckycarr@hogan.com        2020-03-25   \n",
       "3          +1-813-324-8756     stanleyblackwell@benson.org        2020-06-02   \n",
       "4    001-199-446-3860x3486         colinalvarado@miles.net        2021-04-17   \n",
       "..                     ...                             ...               ...   \n",
       "95    001-841-293-3519x614                hhart@jensen.com        2022-01-30   \n",
       "96            605.413.3198               vkemp@ferrell.com        2021-07-10   \n",
       "97   +1-632-666-7507x92121                swagner@kane.org        2021-09-18   \n",
       "98  001-869-452-0943x12424  mccarthystephen@horn-green.biz        2021-08-11   \n",
       "99            783.639.1472          colleen91@faulkner.biz        2020-03-11   \n",
       "\n",
       "                              Website  \n",
       "0          http://www.stephenson.com/  \n",
       "1               http://www.hobbs.com/  \n",
       "2            http://www.lawrence.com/  \n",
       "3          http://www.good-lyons.com/  \n",
       "4         https://goodwin-ingram.com/  \n",
       "..                                ...  \n",
       "95            http://hayes-perez.com/  \n",
       "96         https://novak-allison.com/  \n",
       "97              https://www.ross.com/  \n",
       "98               http://watkins.info/  \n",
       "99  http://www.hatfield-saunders.net/  \n",
       "\n",
       "[100 rows x 12 columns]"
      ]
     },
     "execution_count": 76,
     "metadata": {},
     "output_type": "execute_result"
    }
   ],
   "source": [
    "import pandas as pd\n",
    "\n",
    "pd.read_csv('customers-100.csv')"
   ]
  },
  {
   "cell_type": "markdown",
   "id": "03998d5a-1b33-4191-a55d-965a335b9db8",
   "metadata": {
    "jp-MarkdownHeadingCollapsed": true
   },
   "source": [
    "## Basic Markdown"
   ]
  },
  {
   "cell_type": "markdown",
   "id": "544c8f1b-0289-4eeb-8592-d06f3060fe19",
   "metadata": {},
   "source": [
    "Using **Bold** *Italics* and ~Strikethrough~."
   ]
  },
  {
   "cell_type": "markdown",
   "id": "b551eb2c-cecc-4969-a124-50c73f6d4432",
   "metadata": {},
   "source": [
    "Hyperlink for [Youtube](https://www.youtube.com/)"
   ]
  },
  {
   "cell_type": "markdown",
   "id": "e73ff4c1-00c3-4310-9ed8-9d0a198deb88",
   "metadata": {},
   "source": [
    "For Images: ![](https://cdn-icons-png.flaticon.com/128/17565/17565556.png)"
   ]
  },
  {
   "cell_type": "markdown",
   "id": "11f4b3b1-36b7-4529-8d16-a78d1f4c3b4f",
   "metadata": {},
   "source": [
    "[Math Latex](https://latexeditor.lagrida.com/) (Used for writing mathematical expressions) $$ Area = \\pi r^2 $$"
   ]
  },
  {
   "cell_type": "markdown",
   "id": "c3f61a06-d635-4665-ae03-70bcd9d2ef2d",
   "metadata": {
    "jp-MarkdownHeadingCollapsed": true
   },
   "source": [
    "## Help Documentation (for python)"
   ]
  },
  {
   "cell_type": "code",
   "execution_count": 15,
   "id": "5939c054-7809-4cca-87a1-44be3b6930de",
   "metadata": {
    "scrolled": true
   },
   "outputs": [
    {
     "data": {
      "text/plain": [
       "['__and__',\n",
       " '__class__',\n",
       " '__class_getitem__',\n",
       " '__contains__',\n",
       " '__delattr__',\n",
       " '__dir__',\n",
       " '__doc__',\n",
       " '__eq__',\n",
       " '__format__',\n",
       " '__ge__',\n",
       " '__getattribute__',\n",
       " '__getstate__',\n",
       " '__gt__',\n",
       " '__hash__',\n",
       " '__iand__',\n",
       " '__init__',\n",
       " '__init_subclass__',\n",
       " '__ior__',\n",
       " '__isub__',\n",
       " '__iter__',\n",
       " '__ixor__',\n",
       " '__le__',\n",
       " '__len__',\n",
       " '__lt__',\n",
       " '__ne__',\n",
       " '__new__',\n",
       " '__or__',\n",
       " '__rand__',\n",
       " '__reduce__',\n",
       " '__reduce_ex__',\n",
       " '__repr__',\n",
       " '__ror__',\n",
       " '__rsub__',\n",
       " '__rxor__',\n",
       " '__setattr__',\n",
       " '__sizeof__',\n",
       " '__str__',\n",
       " '__sub__',\n",
       " '__subclasshook__',\n",
       " '__xor__',\n",
       " 'add',\n",
       " 'clear',\n",
       " 'copy',\n",
       " 'difference',\n",
       " 'difference_update',\n",
       " 'discard',\n",
       " 'intersection',\n",
       " 'intersection_update',\n",
       " 'isdisjoint',\n",
       " 'issubset',\n",
       " 'issuperset',\n",
       " 'pop',\n",
       " 'remove',\n",
       " 'symmetric_difference',\n",
       " 'symmetric_difference_update',\n",
       " 'union',\n",
       " 'update']"
      ]
     },
     "execution_count": 15,
     "metadata": {},
     "output_type": "execute_result"
    }
   ],
   "source": [
    "dir(set) #would list down all the functions of a specific inbuilt datatype"
   ]
  },
  {
   "cell_type": "markdown",
   "id": "d67d5e95-86e9-476d-a710-11dfc1875b47",
   "metadata": {
    "jp-MarkdownHeadingCollapsed": true
   },
   "source": [
    "## Shell(!) and Magic(%) Commands in Jupyter Notebook"
   ]
  },
  {
   "cell_type": "code",
   "execution_count": 124,
   "id": "86ed3002-2d46-41d0-944f-574fee58475c",
   "metadata": {},
   "outputs": [
    {
     "name": "stdout",
     "output_type": "stream",
     "text": [
      "Python 3.12.4\n"
     ]
    }
   ],
   "source": [
    "!python --version"
   ]
  },
  {
   "cell_type": "code",
   "execution_count": null,
   "id": "ed7b4186-1177-4dc7-9b22-a9cd86da1acd",
   "metadata": {
    "scrolled": true
   },
   "outputs": [
    {
     "name": "stdout",
     "output_type": "stream",
     "text": [
      "> \u001b[1;32mc:\\users\\aashna\\anaconda3\\lib\\site-packages\\ipython\\core\\compilerop.py\u001b[0m(86)\u001b[0;36mast_parse\u001b[1;34m()\u001b[0m\n",
      "\u001b[1;32m     84 \u001b[1;33m        \u001b[0mArguments\u001b[0m \u001b[0mare\u001b[0m \u001b[0mexactly\u001b[0m \u001b[0mthe\u001b[0m \u001b[0msame\u001b[0m \u001b[1;32mas\u001b[0m \u001b[0mast\u001b[0m\u001b[1;33m.\u001b[0m\u001b[0mparse\u001b[0m \u001b[1;33m(\u001b[0m\u001b[1;32min\u001b[0m \u001b[0mthe\u001b[0m \u001b[0mstandard\u001b[0m \u001b[0mlibrary\u001b[0m\u001b[1;33m)\u001b[0m\u001b[1;33m,\u001b[0m\u001b[1;33m\u001b[0m\u001b[1;33m\u001b[0m\u001b[0m\n",
      "\u001b[0m\u001b[1;32m     85 \u001b[1;33m        and are passed to the built-in compile function.\"\"\"\n",
      "\u001b[0m\u001b[1;32m---> 86 \u001b[1;33m        \u001b[1;32mreturn\u001b[0m \u001b[0mcompile\u001b[0m\u001b[1;33m(\u001b[0m\u001b[0msource\u001b[0m\u001b[1;33m,\u001b[0m \u001b[0mfilename\u001b[0m\u001b[1;33m,\u001b[0m \u001b[0msymbol\u001b[0m\u001b[1;33m,\u001b[0m \u001b[0mself\u001b[0m\u001b[1;33m.\u001b[0m\u001b[0mflags\u001b[0m \u001b[1;33m|\u001b[0m \u001b[0mPyCF_ONLY_AST\u001b[0m\u001b[1;33m,\u001b[0m \u001b[1;36m1\u001b[0m\u001b[1;33m)\u001b[0m\u001b[1;33m\u001b[0m\u001b[1;33m\u001b[0m\u001b[0m\n",
      "\u001b[0m\u001b[1;32m     87 \u001b[1;33m\u001b[1;33m\u001b[0m\u001b[0m\n",
      "\u001b[0m\u001b[1;32m     88 \u001b[1;33m    \u001b[1;32mdef\u001b[0m \u001b[0mreset_compiler_flags\u001b[0m\u001b[1;33m(\u001b[0m\u001b[0mself\u001b[0m\u001b[1;33m)\u001b[0m\u001b[1;33m:\u001b[0m\u001b[1;33m\u001b[0m\u001b[1;33m\u001b[0m\u001b[0m\n",
      "\u001b[0m\n"
     ]
    }
   ],
   "source": [
    "%debug"
   ]
  }
 ],
 "metadata": {
  "kernelspec": {
   "display_name": "Python 3 (ipykernel)",
   "language": "python",
   "name": "python3"
  },
  "language_info": {
   "codemirror_mode": {
    "name": "ipython",
    "version": 3
   },
   "file_extension": ".py",
   "mimetype": "text/x-python",
   "name": "python",
   "nbconvert_exporter": "python",
   "pygments_lexer": "ipython3",
   "version": "3.12.4"
  }
 },
 "nbformat": 4,
 "nbformat_minor": 5
}
